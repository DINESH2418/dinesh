{
 "cells": [
  {
   "cell_type": "code",
   "execution_count": 1,
   "id": "db612d85",
   "metadata": {},
   "outputs": [
    {
     "name": "stdout",
     "output_type": "stream",
     "text": [
      "DataFrame.applyfunction:\n",
      "\n",
      "\n",
      " original DataFrame:\n",
      "    S  R\n",
      "0  3  9\n",
      "1  3  9\n",
      "2  3  9\n",
      "3  3  9\n",
      "\n",
      " square root of DataFrame:\n",
      "           S    R\n",
      "0  1.732051  3.0\n",
      "1  1.732051  3.0\n",
      "2  1.732051  3.0\n",
      "3  1.732051  3.0\n",
      "\n",
      " sum of each column:\n",
      " S    12\n",
      "R    36\n",
      "dtype: int64\n",
      "\n",
      " sum of each row:\n",
      " 0    12\n",
      "1    12\n",
      "2    12\n",
      "3    12\n",
      "dtype: int64\n"
     ]
    }
   ],
   "source": [
    "import pandas as pd\n",
    "import numpy as np\n",
    "print(\"DataFrame.applyfunction:\\n\")\n",
    "info=pd.DataFrame([[3,9]]*4,columns=['S','R'])\n",
    "print(\"\\n original DataFrame:\\n\",info)\n",
    "print(\"\\n square root of DataFrame:\\n\",info.apply(np.sqrt))\n",
    "print(\"\\n sum of each column:\\n\",info.apply(np.sum,axis=0))\n",
    "print(\"\\n sum of each row:\\n\",info.apply(np.sum,axis=1))"
   ]
  },
  {
   "cell_type": "code",
   "execution_count": 6,
   "id": "f13b0b7d",
   "metadata": {},
   "outputs": [
    {
     "name": "stdout",
     "output_type": "stream",
     "text": [
      "   x  y  z\n",
      "0  2  4  6\n",
      "1  1  3  5\n",
      "2  5  8  7\n",
      "     x  y  z\n",
      "min  1  3  5\n",
      "max  5  8  7\n",
      "     0   1\n",
      "0  sai  88\n",
      "1  pro  70\n"
     ]
    }
   ],
   "source": [
    "import pandas as pd\n",
    "import numpy as np\n",
    "info=pd.DataFrame([[2,4,6],[1,3,5],[5,8,7]],columns=['x','y','z'])\n",
    "print(info)\n",
    "print(info.agg(['min','max']))\n",
    "d2=pd.DataFrame([['sai',88],['pro',70]])\n",
    "columns=['EMP','ID']\n",
    "print(d2)"
   ]
  },
  {
   "cell_type": "code",
   "execution_count": 7,
   "id": "eabb892d",
   "metadata": {},
   "outputs": [
    {
     "name": "stdout",
     "output_type": "stream",
     "text": [
      "     0   1  Age\n",
      "0  sai  88   20\n",
      "1  pro  70   18\n"
     ]
    }
   ],
   "source": [
    "d2['Age']=[20,18]\n",
    "print(d2)"
   ]
  },
  {
   "cell_type": "code",
   "execution_count": 8,
   "id": "84600e76",
   "metadata": {},
   "outputs": [
    {
     "name": "stdout",
     "output_type": "stream",
     "text": [
      "     0   1  Age     sex\n",
      "0  sai  88   20    male\n",
      "1  pro  70   18  female\n"
     ]
    }
   ],
   "source": [
    "d=d2.assign(sex=['male','female'])\n",
    "print(d)"
   ]
  },
  {
   "cell_type": "code",
   "execution_count": 15,
   "id": "a8701a6b",
   "metadata": {},
   "outputs": [
    {
     "name": "stdout",
     "output_type": "stream",
     "text": [
      "       col3      col4\n",
      "3 -0.002914  0.718867\n",
      "2 -0.899463  0.670026\n",
      "0  0.161867 -0.201877\n",
      "4 -0.244625 -0.240526\n",
      "1 -0.336659 -0.479659\n"
     ]
    }
   ],
   "source": [
    "\n",
    "info=pd.DataFrame(np.random.randn(5,2),index=[3,2,0,4,1],columns=['col3','col4'])\n",
    "print(info)"
   ]
  },
  {
   "cell_type": "code",
   "execution_count": 17,
   "id": "90baacf6",
   "metadata": {},
   "outputs": [
    {
     "name": "stdout",
     "output_type": "stream",
     "text": [
      "       col3      col4\n",
      "2 -0.899463  0.670026\n",
      "1 -0.336659 -0.479659\n",
      "4 -0.244625 -0.240526\n",
      "3 -0.002914  0.718867\n",
      "0  0.161867 -0.201877\n"
     ]
    }
   ],
   "source": [
    "info2=info.sort_index()\n",
    "info3=info.sort_values(by='col3')\n",
    "print(info3)"
   ]
  },
  {
   "cell_type": "code",
   "execution_count": 24,
   "id": "32751af1",
   "metadata": {},
   "outputs": [
    {
     "name": "stdout",
     "output_type": "stream",
     "text": [
      "   id name_x sub_x name_y sub_y\n",
      "0   1    sai  sub1  dhana  sub4\n",
      "1   2   bala  sub2    boy  sub5\n",
      "2   3    ram  sub3    ran  sub6\n"
     ]
    }
   ],
   "source": [
    "left=pd.DataFrame({'id':[1,2,3],'name':['sai','bala','ram'],'sub':['sub1','sub2','sub3']})\n",
    "right=pd.DataFrame({'id':[1,2,3],'name':['dhana','boy','ran'],'sub':['sub4','sub5','sub6']})\n",
    "merge=pd.merge(left,right,on='id')\n",
    "print(merge)"
   ]
  },
  {
   "cell_type": "code",
   "execution_count": null,
   "id": "c58dfa59",
   "metadata": {},
   "outputs": [],
   "source": []
  },
  {
   "cell_type": "code",
   "execution_count": null,
   "id": "b029a768",
   "metadata": {},
   "outputs": [],
   "source": []
  }
 ],
 "metadata": {
  "kernelspec": {
   "display_name": "Python 3 (ipykernel)",
   "language": "python",
   "name": "python3"
  },
  "language_info": {
   "codemirror_mode": {
    "name": "ipython",
    "version": 3
   },
   "file_extension": ".py",
   "mimetype": "text/x-python",
   "name": "python",
   "nbconvert_exporter": "python",
   "pygments_lexer": "ipython3",
   "version": "3.11.5"
  }
 },
 "nbformat": 4,
 "nbformat_minor": 5
}
